{
 "cells": [
  {
   "cell_type": "code",
   "execution_count": 2,
   "metadata": {},
   "outputs": [],
   "source": [
    "import scipy.io as scio\n",
    "import math\n",
    "import numpy as np\n",
    "import matplotlib.pyplot as plt"
   ]
  },
  {
   "cell_type": "code",
   "execution_count": 4,
   "metadata": {},
   "outputs": [],
   "source": [
    "df = pd.read_csv('data.csv')\n",
    "data = dict()\n",
    "data['x'] = df['X'].values.reshape(100, 1)\n",
    "data['t'] = df['T'].values.reshape(100, 1)"
   ]
  },
  {
   "cell_type": "code",
   "execution_count": 5,
   "metadata": {},
   "outputs": [],
   "source": [
    "M = 3\n",
    "\n",
    "def phi(x, m, trans=1):\n",
    "    X = []\n",
    "    for i in range(m):\n",
    "        # X += [sigmoid_basis(x,i, m)]\n",
    "        X.append(sigmoid_basis(x,i, m))\n",
    "    if trans:\n",
    "        return np.array(X).reshape(-1, m)\n",
    "    else:\n",
    "        return np.array(X)\n",
    "\n",
    "def sigmoid_basis(x, j, m, sigma=0.1):\n",
    "    muj = (2*j)/ m\n",
    "    a = (x - muj)/ sigma\n",
    "    return 1/ (1 + np.exp(-a))\n",
    "\n",
    "def predictive_dist(x, M, mN, SN, beta=1):\n",
    "    phiX = phi(x, M, 0).T\n",
    "    mean = phiX.dot(mN)\n",
    "    covX = 1/beta + np.sum(phiX.dot(SN).dot(phiX.T), axis=1)\n",
    "    std = np.sqrt(covX)\n",
    "    return mean, std\n",
    "\n",
    "def predict(w, x):\n",
    "    return w.dot(x.T)\n",
    "\n",
    "def gaussian_pdf(x, mean, sd):\n",
    "    y = 1 / (2 * np.pi) * 1 / np.sqrt(np.linalg.det(sd)) * np.exp( -0.5 * ((x - mean).T.dot(np.linalg.inv(sd))).dot((x - mean)))\n",
    "    return y"
   ]
  },
  {
   "cell_type": "code",
   "execution_count": 6,
   "metadata": {},
   "outputs": [
    {
     "ename": "NameError",
     "evalue": "name 'x' is not defined",
     "output_type": "error",
     "traceback": [
      "\u001b[1;31m---------------------------------------------------------------------------\u001b[0m",
      "\u001b[1;31mNameError\u001b[0m                                 Traceback (most recent call last)",
      "\u001b[1;32m<ipython-input-6-cdc71fa565c6>\u001b[0m in \u001b[0;36m<module>\u001b[1;34m\u001b[0m\n\u001b[0;32m      7\u001b[0m \u001b[1;33m\u001b[0m\u001b[0m\n\u001b[0;32m      8\u001b[0m \u001b[1;31m# 大PHI矩陣(裡面有許多小phi)\u001b[0m\u001b[1;33m\u001b[0m\u001b[1;33m\u001b[0m\u001b[0m\n\u001b[1;32m----> 9\u001b[1;33m \u001b[0mPHI\u001b[0m \u001b[1;33m=\u001b[0m  \u001b[0mphi\u001b[0m\u001b[1;33m(\u001b[0m\u001b[0mx\u001b[0m\u001b[1;33m[\u001b[0m\u001b[1;36m0\u001b[0m\u001b[1;33m]\u001b[0m\u001b[1;33m,\u001b[0m \u001b[0mM\u001b[0m\u001b[1;33m)\u001b[0m\u001b[1;33m\u001b[0m\u001b[0m\n\u001b[0m\u001b[0;32m     10\u001b[0m \u001b[0msn_inv\u001b[0m \u001b[1;33m=\u001b[0m \u001b[0ms0_inv\u001b[0m \u001b[1;33m+\u001b[0m \u001b[0mbeta\u001b[0m\u001b[1;33m*\u001b[0m\u001b[0mPHI\u001b[0m\u001b[1;33m.\u001b[0m\u001b[0mT\u001b[0m\u001b[1;33m.\u001b[0m\u001b[0mdot\u001b[0m\u001b[1;33m(\u001b[0m\u001b[0mPHI\u001b[0m\u001b[1;33m)\u001b[0m\u001b[1;33m\u001b[0m\u001b[0m\n\u001b[0;32m     11\u001b[0m \u001b[0msn\u001b[0m \u001b[1;33m=\u001b[0m \u001b[0mnp\u001b[0m\u001b[1;33m.\u001b[0m\u001b[0mlinalg\u001b[0m\u001b[1;33m.\u001b[0m\u001b[0minv\u001b[0m\u001b[1;33m(\u001b[0m\u001b[0msn_inv\u001b[0m\u001b[1;33m)\u001b[0m\u001b[1;33m\u001b[0m\u001b[0m\n",
      "\u001b[1;31mNameError\u001b[0m: name 'x' is not defined"
     ]
    }
   ],
   "source": [
    "s0_inv = (10**-6) * np.identity(M) #S0\n",
    "m0 = 0\n",
    "beta = 1\n",
    "MNs = []\n",
    "SNs = []\n",
    "data_len = [5,10,30,80]\n",
    "\n",
    "# 大PHI矩陣(裡面有許多小phi)\n",
    "PHI =  phi(x[0], M)\n",
    "sn_inv = s0_inv + beta*PHI.T.dot(PHI)\n",
    "sn = np.linalg.inv(sn_inv)\n",
    "mn = sn.dot(beta*np.dot(PHI.T, t[0]))\n",
    "# 每次多拿到一筆資料來更新M, S\n",
    "for i in range(1, x.shape[0]):    \n",
    "    # 存特定data筆數的mean跟std\n",
    "    if i in data_len:\n",
    "        MNs.append(mn)\n",
    "        SNs.append(sn)\n",
    "        # 第一種圖(Fig. 3.9)\n",
    "        # plot data point\n",
    "        plt.figure()\n",
    "        plt.scatter(x[:i],t[:i], facecolor=\"none\", edgecolor=\"b\", label=\"training data\")\n",
    "        plt.legend()\n",
    "        # sample five curve\n",
    "        w_sampled = np.random.multivariate_normal(mn, sn, size=5)  # same as scipy multivariate_normal\n",
    "        # sortX = np.array(sorted(x))\n",
    "        sortX = np.linspace(0, 2, 50)\n",
    "        pred = predict(w_sampled, phi(sortX, M, 0).T)\n",
    "        # plot five curve that we just sampled\n",
    "        for j in range(5):\n",
    "            plt.title('data size %d' % i)\n",
    "            plt.plot(sortX, pred[j], '-r')\n",
    "            \n",
    "        # clear the plot \n",
    "        plt.figure()\n",
    "        # 2.第二種圖(Fig. 3.8)predictive distribution\n",
    "        mean, std = predictive_dist(sortX, M, mn, sn)\n",
    "        plt.title('data size %d' % i)\n",
    "        plt.scatter(x[:i],t[:i], facecolor=\"none\", edgecolor=\"b\", label=\"training data\")\n",
    "        plt.plot(sortX, mean, 'r', label='mean')\n",
    "        plt.fill_between(sortX.reshape(len(sortX)), mean-std, mean+std, alpha=0.5, color='orange', label='std')\n",
    "        plt.legend()\n",
    "        \n",
    "        # 3. Fig. 3.7\n",
    "        plt.figure()\n",
    "        w0, w1 = np.meshgrid(np.linspace(0, 5, 100), np.linspace(-2, 3, 100))\n",
    "        w_combined = np.array([w0, w1]).transpose(1, 2, 0)\n",
    "        N_density = np.empty((100, 100))\n",
    "        for f in range(N_density.shape[0]):\n",
    "            for g in range(N_density.shape[1]):\n",
    "                # select weight\n",
    "                N_density[f, g] = gaussian_pdf(w_combined[f, g], mn_old[:2], np.linalg.inv(sn_inv_old)[:2, :2])\n",
    "        plt.xlabel('x1')\n",
    "        plt.ylabel('x2')\n",
    "        plt.contourf(w0[0], w1[:, 0], N_density)\n",
    "        \n",
    "    # update M, S        \n",
    "    PHI = np.vstack((PHI, phi(x[i], M)))\n",
    "    mn_old = mn\n",
    "    sn_inv_old = sn_inv\n",
    "    sn_inv = sn_inv + beta*PHI.T.dot(PHI) # 計算Sn，且beta = 1\n",
    "    sn = np.linalg.inv(sn_inv)\n",
    "    # sn_inv跟mn要帶舊的\n",
    "    mn = sn.dot(sn_inv_old.dot(mn)+beta*PHI.T.dot(t[:i+1]).reshape(-1,))"
   ]
  },
  {
   "cell_type": "code",
   "execution_count": null,
   "metadata": {},
   "outputs": [],
   "source": []
  }
 ],
 "metadata": {
  "kernelspec": {
   "display_name": "Python 3",
   "language": "python",
   "name": "python3"
  },
  "language_info": {
   "codemirror_mode": {
    "name": "ipython",
    "version": 3
   },
   "file_extension": ".py",
   "mimetype": "text/x-python",
   "name": "python",
   "nbconvert_exporter": "python",
   "pygments_lexer": "ipython3",
   "version": "3.7.0"
  }
 },
 "nbformat": 4,
 "nbformat_minor": 4
}
